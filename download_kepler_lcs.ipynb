{
 "cells": [
  {
   "cell_type": "code",
   "execution_count": 1,
   "metadata": {},
   "outputs": [],
   "source": [
    "%matplotlib inline\n",
    "import numpy as np\n",
    "import matplotlib.pyplot as plt\n",
    "import astropy.units as u\n",
    "from astropy.io import fits\n",
    "from astropy.utils.data import download_file"
   ]
  },
  {
   "cell_type": "code",
   "execution_count": 2,
   "metadata": {},
   "outputs": [],
   "source": [
    "from astroquery.mast import Observations\n",
    "import tarfile\n",
    "from astropy.table import Table"
   ]
  },
  {
   "cell_type": "code",
   "execution_count": 5,
   "metadata": {},
   "outputs": [
    {
     "name": "stderr",
     "output_type": "stream",
     "text": [
      "WARNING: W50: None:18:0: W50: Invalid unit string 'days' [astropy.io.votable.tree]\n",
      "WARNING: W50: None:19:0: W50: Invalid unit string 'days' [astropy.io.votable.tree]\n",
      "WARNING: W50: None:20:0: W50: Invalid unit string 'days' [astropy.io.votable.tree]\n",
      "WARNING: W50: None:21:0: W50: Invalid unit string 'BKJD' [astropy.io.votable.tree]\n",
      "WARNING: W50: None:22:0: W50: Invalid unit string 'BKJD' [astropy.io.votable.tree]\n",
      "WARNING: W50: None:23:0: W50: Invalid unit string 'BKJD' [astropy.io.votable.tree]\n",
      "WARNING: W50: None:27:0: W50: Invalid unit string 'hours' [astropy.io.votable.tree]\n",
      "WARNING: W50: None:28:0: W50: Invalid unit string 'hours' [astropy.io.votable.tree]\n",
      "WARNING: W50: None:29:0: W50: Invalid unit string 'hours' [astropy.io.votable.tree]\n",
      "WARNING: W50: None:33:0: W50: Invalid unit string 'Rearth' (suppressing further warnings of this type...) [astropy.io.votable.tree]\n"
     ]
    }
   ],
   "source": [
    "koi_table = Table.read('data/cumulative_2019.07.05_01.52.59.votable')"
   ]
  },
  {
   "cell_type": "code",
   "execution_count": 6,
   "metadata": {},
   "outputs": [
    {
     "name": "stdout",
     "output_type": "stream",
     "text": [
      "460.6230728403382\n"
     ]
    }
   ],
   "source": [
    "# 0.5 mmag -> flux [ppm]\n",
    "half_mmag = (10**((0.5e-3) / 2.5) - 1) * 1e6\n",
    "print(half_mmag)"
   ]
  },
  {
   "cell_type": "code",
   "execution_count": 43,
   "metadata": {},
   "outputs": [
    {
     "name": "stderr",
     "output_type": "stream",
     "text": [
      "/Users/bmmorris/anaconda/lib/python3.5/site-packages/astropy/table/column.py:965: RuntimeWarning: invalid value encountered in less\n",
      "  return getattr(self.data, op)(other)\n",
      "/Users/bmmorris/anaconda/lib/python3.5/site-packages/astropy/table/column.py:965: RuntimeWarning: invalid value encountered in greater\n",
      "  return getattr(self.data, op)(other)\n"
     ]
    }
   ],
   "source": [
    "shortlist = koi_table[(koi_table['koi_steff'] < 6000) & (koi_table['koi_depth'] > half_mmag) & \n",
    "                      (koi_table['koi_kepmag'] < 14.2) & (koi_table['koi_disposition'] != b'FALSE POSITIVE')]"
   ]
  },
  {
   "cell_type": "code",
   "execution_count": 44,
   "metadata": {},
   "outputs": [],
   "source": [
    "kepids = [i.decode() for i in shortlist['kepid'].data.data]"
   ]
  },
  {
   "cell_type": "code",
   "execution_count": 45,
   "metadata": {},
   "outputs": [],
   "source": [
    "# from glob import glob\n",
    "# import shutil\n",
    "# for path in glob('data/kepler_lcs/?????????'): \n",
    "#     kepid = \"{0}\".format(int(path.split(os.sep)[-1]))\n",
    "#     if kepid not in kepids: #os.path.exists(\"data/kepler_lcs/{0:09d}\".format(int(kepid))): \n",
    "#         print(kepid)\n",
    "#         shutil.rmtree(path)"
   ]
  },
  {
   "cell_type": "code",
   "execution_count": 54,
   "metadata": {},
   "outputs": [],
   "source": [
    "from bs4 import BeautifulSoup"
   ]
  },
  {
   "cell_type": "code",
   "execution_count": 72,
   "metadata": {},
   "outputs": [
    {
     "name": "stdout",
     "output_type": "stream",
     "text": [
      "001026895\n"
     ]
    }
   ],
   "source": [
    "kepids = ['001026895']\n",
    "for kepid in kepids:\n",
    "    if not os.path.exists('data/kepler_lcs/{0:09d}'.format(int(kepid))):\n",
    "        print(kepid)\n",
    "\n",
    "        obs = Observations.query_criteria(filters=[\"Kepler\"], instrument_name='Kepler', \n",
    "                                          objectname=\"KIC {0}\".format(kepid), radius=0.05, \n",
    "                                          dataproduct_type='timeseries', t_exptime=[50, 70])\n",
    "\n",
    "        \n",
    "        if len(obs['dataURL'].data.data) > 0:\n",
    "            path = download_file(obs['dataURL'].data.data[0])\n",
    "\n",
    "            tar = tarfile.open(path)\n",
    "            tar.extractall('data/kepler_lcs/.')\n",
    "            tar.close()\n",
    "            \n",
    "#         else: \n",
    "#             print(kepid)\n",
    "#             prefix_url = 'https://archive.stsci.edu/missions/kepler/lightcurves/{0}/{1:09d}'.format(\"{0:09d}\".format(int(kepid))[:4], int(kepid))\n",
    "#             path = download_file(prefix_url)\n",
    "#             bs = BeautifulSoup(open(path, 'r'))\n",
    "#             for a in bs.find_all('a'): \n",
    "#                 if a.get('href').endswith('.tar'): \n",
    "#                     suffix_url = a.get('href')\n",
    "                    \n",
    "#             url = prefix_url + '/' + suffix_url\n",
    "#             print(url)\n",
    "#             path = download_file(url)\n",
    "\n",
    "#             tar = tarfile.open(path)\n",
    "#             tar.extractall('data/kepler_lcs/.')\n",
    "#             tar.close()"
   ]
  },
  {
   "cell_type": "code",
   "execution_count": null,
   "metadata": {},
   "outputs": [],
   "source": []
  }
 ],
 "metadata": {
  "kernelspec": {
   "display_name": "Python 3",
   "language": "python",
   "name": "python3"
  },
  "language_info": {
   "codemirror_mode": {
    "name": "ipython",
    "version": 3
   },
   "file_extension": ".py",
   "mimetype": "text/x-python",
   "name": "python",
   "nbconvert_exporter": "python",
   "pygments_lexer": "ipython3",
   "version": "3.5.4"
  }
 },
 "nbformat": 4,
 "nbformat_minor": 2
}
