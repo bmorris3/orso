{
 "cells": [
  {
   "cell_type": "code",
   "execution_count": 121,
   "metadata": {},
   "outputs": [],
   "source": [
    "%matplotlib inline\n",
    "import matplotlib.pyplot as plt\n",
    "import numpy as np\n",
    "import h5py\n",
    "from astropy.table import Table\n",
    "from astropy.constants import R_sun, R_earth"
   ]
  },
  {
   "cell_type": "code",
   "execution_count": 160,
   "metadata": {},
   "outputs": [],
   "source": [
    "from keras.models import load_model\n",
    "\n",
    "filepath = 'data/model.hdf5'\n",
    "model = load_model(filepath)"
   ]
  },
  {
   "cell_type": "code",
   "execution_count": 153,
   "metadata": {},
   "outputs": [
    {
     "data": {
      "text/plain": [
       "array([b'10797460', b'10797460', b'10811496', ..., b'10147276',\n",
       "       b'10155286', b'10156110'], dtype=object)"
      ]
     },
     "execution_count": 153,
     "metadata": {},
     "output_type": "execute_result"
    }
   ],
   "source": [
    "koi_table['kepid'].data.data"
   ]
  },
  {
   "cell_type": "code",
   "execution_count": 154,
   "metadata": {},
   "outputs": [],
   "source": [
    "# import astropy.units as u\n",
    "# from fleck import generate_spots, Star\n",
    "# from batman import TransitParams\n",
    "# import sys\n",
    "# sys.path.insert(0, '../')\n",
    "# from sun import draw_random_sunspot_latitudes, draw_random_sunspot_radii\n",
    "\n",
    "# archive = h5py.File('../data/kepler_lcs/archive.hdf5', 'r')\n",
    "\n",
    "# keys = list(archive)\n",
    "\n",
    "# koi_table = Table.read('../data/cumulative_2019.07.05_01.52.59.votable')\n",
    "# koi_table.add_index('kepid')\n",
    "\n",
    "# n_spots = 28 \n",
    "\n",
    "# inc_stellar = 90 * u.deg\n",
    "\n",
    "# spot_contrast = 0.7\n",
    "# u_ld = [0.5079, 0.2239]\n",
    "# koi_stdevs = np.load('../data/oot_scatter.npy')\n",
    "\n",
    "# times = np.linspace(planet.t0-0.1, planet.t0+0.1, 300)\n",
    "\n",
    "# star = Star(spot_contrast=spot_contrast, u_ld=u_ld, rotation_period=26)\n",
    "\n",
    "# n_iterations = 1\n",
    "\n",
    "# residual_ptp = []\n",
    "\n",
    "\n",
    "# # Draw spot latitude and radius from actual sunspot distributions\n",
    "\n",
    "# lcs = []\n",
    "# truth = []\n",
    "# for i in range(50): \n",
    "#     if i % 2 == 0: \n",
    "#         oddeven = [0]\n",
    "#     else: \n",
    "#         oddeven = np.arange(n_spots)\n",
    "\n",
    "#     kepid = keys[np.random.randint(0, len(keys))]\n",
    "\n",
    "#     bstr = str(int(kepid)).encode()\n",
    "\n",
    "#     props = koi_table.loc[bstr]\n",
    "\n",
    "#     if not isinstance(koi_table.loc[bstr]['kepid'], bytes): \n",
    "#         props = props[np.argmax(props['koi_depth'])]\n",
    "\n",
    "#     period = props['koi_period']\n",
    "#     duration = props['koi_duration'] / 24\n",
    "\n",
    "#     epoch = props['koi_time0bk'] + 2454833\n",
    "#     b = props['koi_impact']\n",
    "\n",
    "#     params = TransitParams()\n",
    "#     params.per = period\n",
    "#     params.t0 = 0\n",
    "#     params.duration = duration\n",
    "#     params.rp = float(props['koi_prad']*R_earth/(props['koi_srad']*R_sun))\n",
    "#     a = (np.sin(duration * np.pi / period) / np.sqrt((1 + params.rp)**2 - b**2))**-1\n",
    "#     params.a = a\n",
    "#     params.inc = np.degrees(np.arccos(b/params.a))\n",
    "#     params.limb_dark = 'quadratic'\n",
    "#     params.u = u_ld\n",
    "#     params.ecc = 0\n",
    "#     params.w = 90\n",
    "\n",
    "# #     if params.rp**2 > 0.005 and stddev < params.rp**2 and duration < 0.2: \n",
    "\n",
    "#     stddev = koi_stdevs[np.random.randint(0, len(koi_stdevs))]\n",
    "\n",
    "#     lons = 360 * np.random.rand(n_spots)[:, np.newaxis] * u.deg\n",
    "#     lats = draw_random_sunspot_latitudes(n_spots)[:, np.newaxis] \n",
    "#     #radii = 0.02 + (0.08 - 0.02)*np.random.randn(n_spots)[:, np.newaxis] #0.04 * np.ones(n_spots)[:, np.newaxis]\n",
    "#     radii = 0.1 * np.ones(n_spots)[:, np.newaxis]\n",
    "\n",
    "#     lc, spots_occulted = star.light_curve(lons[oddeven], lats[oddeven], radii[oddeven], inc_stellar, planet=planet, \n",
    "#                                           times=times, return_spots_occulted=True, fast=True)\n",
    "\n",
    "#     lc += koi_stdevs[np.random.randint(0, len(koi_stdevs))] * np.random.randn(len(lc))[:, np.newaxis]\n",
    "\n",
    "#     lcs.append(lc)\n",
    "#     truth.append(spots_occulted)"
   ]
  },
  {
   "cell_type": "code",
   "execution_count": 162,
   "metadata": {},
   "outputs": [],
   "source": [
    "# lcs = np.load('data/parallel_general/103647986_simulated_transit_lcs.npy')\n",
    "# truth = np.load('data/parallel_general/103647986_simulated_spots_occulted.npy')\n",
    "\n",
    "lcs = np.load('data/parallel_normed/015374943_simulated_transit_lcs.npy')\n",
    "truth = np.load('data/parallel_normed/015374943_simulated_spots_occulted.npy')"
   ]
  },
  {
   "cell_type": "code",
   "execution_count": 163,
   "metadata": {},
   "outputs": [],
   "source": [
    "# lcs = np.hstack(lcs)"
   ]
  },
  {
   "cell_type": "code",
   "execution_count": 164,
   "metadata": {},
   "outputs": [
    {
     "data": {
      "text/plain": [
       "(50, 500)"
      ]
     },
     "execution_count": 164,
     "metadata": {},
     "output_type": "execute_result"
    }
   ],
   "source": [
    "lcs.shape"
   ]
  },
  {
   "cell_type": "code",
   "execution_count": 166,
   "metadata": {},
   "outputs": [
    {
     "name": "stdout",
     "output_type": "stream",
     "text": [
      "True\n",
      "True\n",
      "True\n",
      "True\n",
      "True\n"
     ]
    },
    {
     "data": {
      "image/png": "[encoded data removed]",
      "text/plain": [
       "<Figure size 432x288 with 1 Axes>"
      ]
     },
     "metadata": {},
     "output_type": "display_data"
    }
   ],
   "source": [
    "for i in range(5):\n",
    "    plt.plot(lcs[:, i], alpha=0.1, color='k')\n",
    "    print(spots_occulted)"
   ]
  },
  {
   "cell_type": "code",
   "execution_count": 167,
   "metadata": {},
   "outputs": [
    {
     "name": "stdout",
     "output_type": "stream",
     "text": [
      "0.936\n",
      "[ True  True  True  True  True False  True  True  True  True  True  True\n",
      "  True  True  True  True  True  True  True  True  True  True  True  True\n",
      "  True  True  True  True  True  True  True  True  True  True  True False\n",
      "  True  True  True  True  True  True  True  True  True  True  True  True\n",
      "  True  True  True  True  True  True False  True  True  True  True  True\n",
      "  True  True False  True False  True  True  True  True  True  True  True\n",
      "  True  True  True  True  True  True  True  True  True  True  True  True\n",
      "  True  True  True False  True  True  True  True  True  True  True  True\n",
      "  True  True  True  True  True  True  True  True  True  True  True  True\n",
      "  True  True  True  True  True  True  True  True  True  True  True  True\n",
      "  True  True  True  True  True  True  True  True  True  True  True  True\n",
      " False  True  True  True  True  True  True  True  True  True  True  True\n",
      "  True  True  True  True  True  True  True  True  True  True  True  True\n",
      "  True  True  True  True  True False  True  True  True  True  True  True\n",
      "  True  True  True  True  True  True  True False  True  True  True  True\n",
      "  True  True  True  True  True  True  True  True  True  True  True  True\n",
      "  True  True  True  True  True  True  True  True  True  True False  True\n",
      "  True  True  True  True  True  True  True  True  True False  True  True\n",
      "  True  True  True  True  True  True  True  True  True  True  True  True\n",
      "  True  True  True  True  True  True  True  True  True  True False  True\n",
      "  True  True  True  True  True  True  True  True  True  True  True  True\n",
      "  True  True  True False  True  True  True False  True  True  True  True\n",
      "  True  True  True  True  True  True  True  True  True  True  True  True\n",
      "  True False  True  True  True  True  True  True  True  True  True  True\n",
      "  True  True  True  True False  True  True  True  True  True  True  True\n",
      "  True  True  True  True  True  True  True  True  True  True  True  True\n",
      "  True False  True  True  True  True  True  True  True  True  True  True\n",
      "  True  True  True  True  True  True  True  True  True  True  True  True\n",
      "  True  True  True  True  True  True  True  True  True  True  True  True\n",
      "  True  True  True  True  True  True False  True False  True  True  True\n",
      "  True  True  True  True  True  True False  True  True  True  True  True\n",
      "  True  True  True  True  True  True  True  True  True  True  True  True\n",
      " False  True  True  True False  True  True  True  True  True  True  True\n",
      "  True  True  True  True  True  True  True  True  True  True  True  True\n",
      "  True  True  True  True  True  True  True  True  True  True  True  True\n",
      "  True False False  True  True  True  True  True  True  True  True  True\n",
      "  True  True False  True  True  True  True  True  True  True  True False\n",
      "  True  True  True False  True  True  True  True  True  True  True  True\n",
      "  True  True  True  True  True  True  True  True  True  True  True  True\n",
      "  True  True  True  True False False  True  True  True  True  True  True\n",
      "  True  True False  True  True  True  True  True  True  True  True  True\n",
      "  True False  True  True  True False  True  True]\n"
     ]
    }
   ],
   "source": [
    "X = lcs.T[:, :, np.newaxis] \n",
    "X -= np.array(X).mean()\n",
    "X /= X.ptp()\n",
    "\n",
    "predict_y = model.predict(X)\n",
    "correct = np.argmax(predict_y, axis=1).astype(bool) == np.array(truth)\n",
    "print(np.count_nonzero(correct)/len(correct))\n",
    "print(correct)\n",
    "\n",
    "# for i, x in enumerate(X): \n",
    "#     plt.title(str(np.argmax(predict_y, axis=1)[i]) +' '+ \n",
    "#               str(np.argmax(predict_y, axis=1)[i] == truth[i]))\n",
    "#     plt.plot(x)\n",
    "#     plt.show()\n",
    "\n",
    "# X = np.random.randn(*X.shape)"
   ]
  },
  {
   "cell_type": "code",
   "execution_count": null,
   "metadata": {},
   "outputs": [],
   "source": [
    "\n"
   ]
  },
  {
   "cell_type": "code",
   "execution_count": null,
   "metadata": {},
   "outputs": [],
   "source": []
  }
 ],
 "metadata": {
  "kernelspec": {
   "display_name": "Python 3",
   "language": "python",
   "name": "python3"
  },
  "language_info": {
   "codemirror_mode": {
    "name": "ipython",
    "version": 3
   },
   "file_extension": ".py",
   "mimetype": "text/x-python",
   "name": "python",
   "nbconvert_exporter": "python",
   "pygments_lexer": "ipython3",
   "version": "3.5.4"
  }
 },
 "nbformat": 4,
 "nbformat_minor": 2
}
