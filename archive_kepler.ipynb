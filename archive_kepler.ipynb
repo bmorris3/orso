{
 "cells": [
  {
   "cell_type": "code",
   "execution_count": 1,
   "metadata": {},
   "outputs": [],
   "source": [
    "%matplotlib inline\n",
    "import numpy as np\n",
    "import matplotlib.pyplot as plt\n",
    "import astropy.units as u\n",
    "from astropy.io import fits\n",
    "from glob import glob\n",
    "import os\n",
    "import h5py"
   ]
  },
  {
   "cell_type": "code",
   "execution_count": 2,
   "metadata": {},
   "outputs": [],
   "source": [
    "archive = h5py.File('data/kepler_lcs/archive.hdf5', 'w')"
   ]
  },
  {
   "cell_type": "code",
   "execution_count": 3,
   "metadata": {},
   "outputs": [],
   "source": [
    "dirs = glob('data/kepler_lcs/?????????')"
   ]
  },
  {
   "cell_type": "code",
   "execution_count": 6,
   "metadata": {},
   "outputs": [],
   "source": [
    "for directory in dirs: \n",
    "    kepid = directory.split(os.sep)[-1]\n",
    "    if kepid not in archive: \n",
    "        t = []\n",
    "        f = []\n",
    "        for path in glob(os.path.join(directory, '*.fits')):\n",
    "            try: \n",
    "                fitsfile = fits.getdata(path)\n",
    "                not_nan = ~np.isnan(fitsfile['TIME']) & ~np.isnan(fitsfile['PDCSAP_FLUX'])\n",
    "                t.append(fitsfile['TIME'][not_nan] + 2454833)\n",
    "                f.append(fitsfile['PDCSAP_FLUX'][not_nan] / np.median(fitsfile['PDCSAP_FLUX'][not_nan]))\n",
    "            except TypeError:\n",
    "                pass\n",
    "\n",
    "        t = np.concatenate(t)\n",
    "        f = np.concatenate(f)\n",
    "        archive.create_dataset(kepid, data=np.vstack([t, f]), compression='lzf')\n",
    "\n",
    "#         plt.plot(t, f)\n",
    "#         plt.show()"
   ]
  },
  {
   "cell_type": "code",
   "execution_count": 7,
   "metadata": {},
   "outputs": [],
   "source": [
    "archive.close()"
   ]
  },
  {
   "cell_type": "code",
   "execution_count": 8,
   "metadata": {},
   "outputs": [],
   "source": [
    "\n",
    "archive = h5py.File('data/kepler_lcs/archive.hdf5', 'r')"
   ]
  },
  {
   "cell_type": "code",
   "execution_count": 9,
   "metadata": {},
   "outputs": [],
   "source": [
    "t, f = archive['002162635'][:]"
   ]
  },
  {
   "cell_type": "code",
   "execution_count": 10,
   "metadata": {},
   "outputs": [
    {
     "data": {
      "text/plain": [
       "[<matplotlib.lines.Line2D at 0x1142a5438>]"
      ]
     },
     "execution_count": 10,
     "metadata": {},
     "output_type": "execute_result"
    },
    {
     "data": {
      "image/png": "[encoded data removed]",
      "text/plain": [
       "<Figure size 432x288 with 1 Axes>"
      ]
     },
     "metadata": {},
     "output_type": "display_data"
    }
   ],
   "source": [
    "plt.plot(t, f)"
   ]
  },
  {
   "cell_type": "code",
   "execution_count": null,
   "metadata": {},
   "outputs": [],
   "source": []
  }
 ],
 "metadata": {
  "kernelspec": {
   "display_name": "Python 3",
   "language": "python",
   "name": "python3"
  },
  "language_info": {
   "codemirror_mode": {
    "name": "ipython",
    "version": 3
   },
   "file_extension": ".py",
   "mimetype": "text/x-python",
   "name": "python",
   "nbconvert_exporter": "python",
   "pygments_lexer": "ipython3",
   "version": "3.5.4"
  }
 },
 "nbformat": 4,
 "nbformat_minor": 2
}
