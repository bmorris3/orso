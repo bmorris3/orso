{
 "cells": [
  {
   "cell_type": "code",
   "execution_count": 45,
   "metadata": {},
   "outputs": [],
   "source": [
    "from subprocess import Popen"
   ]
  },
  {
   "cell_type": "code",
   "execution_count": 48,
   "metadata": {},
   "outputs": [],
   "source": [
    "path = '/Users/bmmorris/git/orso'\n",
    "cmd = ['python', 'ensemble.py', '1000']\n",
    "n_threads = 8\n",
    "\n",
    "for i in range(n_threads):\n",
    "    Popen(cmd, cwd=path)"
   ]
  },
  {
   "cell_type": "code",
   "execution_count": 57,
   "metadata": {},
   "outputs": [],
   "source": [
    "%matplotlib inline\n",
    "import numpy as np\n",
    "import matplotlib.pyplot as plt\n",
    "from glob import glob\n",
    "\n",
    "half_max_paths = glob('data/half_solar_max/residuals_*')\n",
    "max_paths = glob('data/solar_max/residuals_*')\n",
    "\n",
    "more_max_paths = glob('data/2800/residuals_*')\n",
    "\n",
    "half_max_residuals = []\n",
    "for path in half_max_paths:     \n",
    "    half_max_residuals.append(np.load(path))\n",
    "\n",
    "max_residuals = []\n",
    "for path in max_paths:     \n",
    "    max_residuals.append(np.load(path))\n",
    "\n",
    "more_max_residuals = []\n",
    "for path in more_max_paths:     \n",
    "    more_max_residuals.append(np.load(path))\n",
    "    \n",
    "half_max_residuals = np.concatenate(half_max_residuals)\n",
    "max_residuals = np.concatenate(max_residuals)\n",
    "more_max_residuals = np.concatenate(more_max_residuals)"
   ]
  },
  {
   "cell_type": "code",
   "execution_count": 58,
   "metadata": {},
   "outputs": [
    {
     "data": {
      "text/plain": [
       "Text(0.5, 0, 'Maximum Residual [ppm]')"
      ]
     },
     "execution_count": 58,
     "metadata": {},
     "output_type": "execute_result"
    },
    {
     "data": {
      "image/png": "[encoded data removed]",
      "text/plain": [
       "<Figure size 432x288 with 1 Axes>"
      ]
     },
     "metadata": {},
     "output_type": "display_data"
    }
   ],
   "source": [
    "plt.hist(half_max_residuals * 1e6, 25, alpha=0.5, label='Half Solar max', density=True);\n",
    "plt.hist(max_residuals * 1e6, 25, alpha=0.5, label='Solar max', density=True);\n",
    "plt.hist(more_max_residuals * 1e6, 25, alpha=0.5, label='More-than Solar max', density=True);\n",
    "plt.legend()\n",
    "plt.xlabel('Maximum Residual [ppm]')"
   ]
  },
  {
   "cell_type": "code",
   "execution_count": null,
   "metadata": {},
   "outputs": [],
   "source": []
  }
 ],
 "metadata": {
  "kernelspec": {
   "display_name": "Python 3",
   "language": "python",
   "name": "python3"
  },
  "language_info": {
   "codemirror_mode": {
    "name": "ipython",
    "version": 3
   },
   "file_extension": ".py",
   "mimetype": "text/x-python",
   "name": "python",
   "nbconvert_exporter": "python",
   "pygments_lexer": "ipython3",
   "version": "3.5.4"
  }
 },
 "nbformat": 4,
 "nbformat_minor": 2
}
