{
 "cells": [
  {
   "cell_type": "code",
   "execution_count": 58,
   "metadata": {},
   "outputs": [],
   "source": [
    "%matplotlib inline\n",
    "import numpy as np\n",
    "import matplotlib.pyplot as plt\n",
    "import astropy.units as u\n",
    "from astropy.stats import mad_std"
   ]
  },
  {
   "cell_type": "code",
   "execution_count": 60,
   "metadata": {},
   "outputs": [],
   "source": [
    "from glob import glob\n",
    "\n",
    "# Open PDCSAP light curves\n",
    "paths = glob('../TESSellate/downloads/*.npy')"
   ]
  },
  {
   "cell_type": "markdown",
   "metadata": {},
   "source": [
    "Measure the typical standard deviation of the TESS TOI PDCSAP light curves"
   ]
  },
  {
   "cell_type": "code",
   "execution_count": 65,
   "metadata": {},
   "outputs": [
    {
     "name": "stderr",
     "output_type": "stream",
     "text": [
      "/Users/bmmorris/anaconda/lib/python3.5/site-packages/ipykernel_launcher.py:11: RuntimeWarning: invalid value encountered in greater\n",
      "  # This is added back by InteractiveShellApp.init_path()\n"
     ]
    },
    {
     "data": {
      "image/png": "[encoded data removed]",
      "text/plain": [
       "<Figure size 432x288 with 1 Axes>"
      ]
     },
     "metadata": {},
     "output_type": "display_data"
    }
   ],
   "source": [
    "stdevs = []\n",
    "for path in paths: \n",
    "    times, fluxes = np.load(path).T\n",
    "    sort = np.argsort(times)\n",
    "    times = times[sort]\n",
    "    fluxes = fluxes[sort]\n",
    "    \n",
    "    split_times = []\n",
    "    split_fluxes = []\n",
    "    stdev = []\n",
    "    diff_times = np.diff(times) > 2.5/60/24\n",
    "    \n",
    "    if np.count_nonzero(diff_times) > 0: \n",
    "        splits = np.concatenate([[0], np.argwhere(diff_times).T[0], [len(times)-1]])\n",
    "        for i in range(1, len(splits)):\n",
    "            t = times[splits[i-1]:splits[i]]\n",
    "            f = fluxes[splits[i-1]:splits[i]] / np.nanmedian(fluxes[splits[i-1]:splits[i]])\n",
    "            stdev.append(mad_std(f, ignore_nan=True))\n",
    "            \n",
    "    stdevs.append(np.nanmean(stdev))\n",
    "    \n",
    "stdevs = np.array(stdevs)\n",
    "np.save('data/toi_stdevs.npy', stdevs)\n",
    "plt.hist(stdevs, log=True);"
   ]
  },
  {
   "cell_type": "code",
   "execution_count": 68,
   "metadata": {},
   "outputs": [],
   "source": [
    "\n",
    "half_max_paths = glob('data/half_solar_max/residuals_*')\n",
    "max_paths = glob('data/solar_max/residuals_*')\n",
    "more_max_paths = glob('data/1400/residuals_*')\n",
    "\n",
    "half_max_residuals = []\n",
    "for path in half_max_paths:     \n",
    "    half_max_residuals.append(np.load(path))\n",
    "\n",
    "max_residuals = []\n",
    "for path in max_paths:     \n",
    "    max_residuals.append(np.load(path))\n",
    "\n",
    "more_max_residuals = []\n",
    "for path in more_max_paths:     \n",
    "    more_max_residuals.append(np.load(path))\n",
    "    \n",
    "half_max_residuals = np.concatenate(half_max_residuals)\n",
    "max_residuals = np.concatenate(max_residuals)\n",
    "more_max_residuals = np.concatenate(more_max_residuals)"
   ]
  },
  {
   "cell_type": "code",
   "execution_count": 74,
   "metadata": {},
   "outputs": [
    {
     "data": {
      "text/plain": [
       "(0, 0.0035)"
      ]
     },
     "execution_count": 74,
     "metadata": {},
     "output_type": "execute_result"
    },
    {
     "data": {
      "image/png": "[encoded data removed]",
      "text/plain": [
       "<Figure size 432x288 with 1 Axes>"
      ]
     },
     "metadata": {},
     "output_type": "display_data"
    }
   ],
   "source": [
    "hat11 = np.load('data/hat11_residuals.npy')\n",
    "histprops = dict(density=True, histtype='step', lw=3, range=[0, 1500])\n",
    "plt.hist(half_max_residuals * 1e6, 20, label='Half Solar max', **histprops);\n",
    "plt.hist(max_residuals * 1e6, 20, label='Solar max', **histprops);\n",
    "plt.hist(more_max_residuals * 1e6, 20, label='More-than Solar max', **histprops);\n",
    "plt.hist(hat11 * 1e6, 20, label='HAT-P-11', **histprops)\n",
    "\n",
    "plt.hist(stdevs * 1e6, 20, label='TOIs', ls='--', **histprops)\n",
    "\n",
    "plt.legend()\n",
    "plt.xlabel('Maximum Residual [ppm]')\n",
    "plt.ylim([0, 0.0035])"
   ]
  },
  {
   "cell_type": "markdown",
   "metadata": {},
   "source": [
    "How often would the residual spot occultations be detectable given the noise distribution of TESS TOIs?"
   ]
  },
  {
   "cell_type": "code",
   "execution_count": 97,
   "metadata": {},
   "outputs": [],
   "source": [
    "n_draws = 1000000\n",
    "\n",
    "threshold_for_detection = 3\n",
    "tess_noise_std = stdevs[np.random.randint(0, len(stdevs), size=n_draws)]\n",
    "\n",
    "def randint(high, n_draws=n_draws):\n",
    "    return np.random.randint(0, high, size=n_draws)\n",
    "\n",
    "def fraction_detected(cond): \n",
    "    return np.count_nonzero(cond)/cond.shape[0]\n",
    "\n",
    "half_max_detected = half_max_residuals[randint(len(half_max_residuals))] > threshold_for_detection * tess_noise_std\n",
    "half_max_detected_fraction = fraction_detected(half_max_detected)\n",
    "\n",
    "max_detected = max_residuals[randint(len(max_residuals))] > threshold_for_detection * tess_noise_std\n",
    "max_detected_fraction = fraction_detected(max_detected)\n",
    "\n",
    "more_max_detected = more_max_residuals[randint(len(more_max_residuals))] > threshold_for_detection * tess_noise_std\n",
    "more_max_detected_fraction = fraction_detected(more_max_detected)"
   ]
  },
  {
   "cell_type": "code",
   "execution_count": 98,
   "metadata": {},
   "outputs": [
    {
     "data": {
      "text/plain": [
       "(0.0, 0.0, 0.030277)"
      ]
     },
     "execution_count": 98,
     "metadata": {},
     "output_type": "execute_result"
    }
   ],
   "source": [
    "half_max_detected_fraction, max_detected_fraction, more_max_detected_fraction"
   ]
  },
  {
   "cell_type": "code",
   "execution_count": 131,
   "metadata": {},
   "outputs": [
    {
     "name": "stdout",
     "output_type": "stream",
     "text": [
      "460.6230728403382\n"
     ]
    }
   ],
   "source": [
    "# 0.5 mmag -> flux [ppm]\n",
    "half_mmag = (10**((0.5e-3) / 2.5) - 1) * 1e6\n",
    "print(half_mmag)"
   ]
  },
  {
   "cell_type": "markdown",
   "metadata": {},
   "source": [
    "Get cumulative Kepler [KOI list](https://exoplanetarchive.ipac.caltech.edu/cgi-bin/TblView/nph-tblView?app=ExoTbls&config=cumulative)"
   ]
  },
  {
   "cell_type": "code",
   "execution_count": 100,
   "metadata": {},
   "outputs": [],
   "source": [
    "from astropy.table import Table\n",
    "\n",
    "koi_table = Table.read('data/cumulative_2019.07.05_01.52.59.votable')"
   ]
  },
  {
   "cell_type": "code",
   "execution_count": 241,
   "metadata": {},
   "outputs": [
    {
     "name": "stderr",
     "output_type": "stream",
     "text": [
      "/Users/bmmorris/anaconda/lib/python3.5/site-packages/astropy/table/column.py:965: RuntimeWarning: invalid value encountered in less\n",
      "  return getattr(self.data, op)(other)\n",
      "/Users/bmmorris/anaconda/lib/python3.5/site-packages/astropy/table/column.py:965: RuntimeWarning: invalid value encountered in greater\n",
      "  return getattr(self.data, op)(other)\n"
     ]
    }
   ],
   "source": [
    "shortlist = koi_table[(koi_table['koi_steff'] < 6000) & (koi_table['koi_depth'] > half_mmag) & (koi_table['koi_kepmag'] < 14.2)\n",
    "                     & (koi_table['koi_disposition'] != b'FALSE POSITIVE')]"
   ]
  },
  {
   "cell_type": "code",
   "execution_count": 245,
   "metadata": {},
   "outputs": [
    {
     "data": {
      "text/plain": [
       "286"
      ]
     },
     "execution_count": 245,
     "metadata": {},
     "output_type": "execute_result"
    }
   ],
   "source": [
    "len(np.unique(shortlist['kepid']))"
   ]
  },
  {
   "cell_type": "code",
   "execution_count": 256,
   "metadata": {},
   "outputs": [],
   "source": [
    "kepids, scatter_ratio = np.load('data/spot_searched.npy')"
   ]
  },
  {
   "cell_type": "code",
   "execution_count": 263,
   "metadata": {},
   "outputs": [
    {
     "name": "stdout",
     "output_type": "stream",
     "text": [
      "3 144 0.020833333333333332\n"
     ]
    }
   ],
   "source": [
    "n_detected_kepler = (int(b'Kepler-17 b' in shortlist['kepler_name'].data.data) + \n",
    "                     int(b'Kepler-3 b' in shortlist['kepler_name'].data.data) + \n",
    "                     int(b'Kepler-63 b' in shortlist['kepler_name']))\n",
    "n_searched_kepler = len(kepids)\n",
    "\n",
    "fraction_kepler_observed = n_detected_kepler/n_searched_kepler\n",
    "\n",
    "print(n_detected_kepler, n_searched_kepler, fraction_kepler_observed)"
   ]
  },
  {
   "cell_type": "markdown",
   "metadata": {},
   "source": [
    "$$ f_\\text{observed} = f_\\text{total} \\cdot f_\\text{detectable} $$\n",
    "so\n",
    "$$ f_\\text{total} = f_\\text{observed} \\cdot  f_\\text{detectable}^{-1}   $$"
   ]
  },
  {
   "cell_type": "code",
   "execution_count": 264,
   "metadata": {},
   "outputs": [
    {
     "data": {
      "text/plain": [
       "(0.020833333333333332, 0.030277)"
      ]
     },
     "execution_count": 264,
     "metadata": {},
     "output_type": "execute_result"
    }
   ],
   "source": [
    "fraction_kepler_observed, more_max_detected_fraction"
   ]
  },
  {
   "cell_type": "code",
   "execution_count": 265,
   "metadata": {},
   "outputs": [
    {
     "name": "stdout",
     "output_type": "stream",
     "text": [
      "0.688091070229327\n"
     ]
    }
   ],
   "source": [
    "f_total = fraction_kepler_observed / more_max_detected_fraction\n",
    "\n",
    "print(f_total)"
   ]
  },
  {
   "cell_type": "markdown",
   "metadata": {},
   "source": [
    "[Burgasser et al. 2013](http://adsabs.harvard.edu/abs/2003ApJ...586..512B): \n",
    "> When binary fractions (or other equivalent frequency statistics) are quoted in the literature, they are frequently assigned\n",
    "Poisson uncertainties. However, the Poisson limit applies only in the case of a large sample, whereas the brown dwarf samples\n",
    "discussed here are less than 30 in number. Hence, we derived statistical uncertainties by constructing a probability distribution\n",
    "for $\\epsilon_b$ given the total sample size, $N$, and the number of binaries in the sample, n. The binomial distribution determines the\n",
    "probability of finding $n$ binaries given the sample size and binary fraction, as\n",
    "\n",
    "\n",
    "$$B\\left(n ; N, \\epsilon_{b}\\right)=\\frac{N !}{n !(N-n) !} \\epsilon_{b}^{n}\\left(1-\\epsilon_{b}\\right)^{N-n}$$"
   ]
  },
  {
   "cell_type": "code",
   "execution_count": 266,
   "metadata": {},
   "outputs": [
    {
     "data": {
      "text/plain": [
       "4.359888"
      ]
     },
     "execution_count": 266,
     "metadata": {},
     "output_type": "execute_result"
    }
   ],
   "source": [
    "n_searched_kepler * more_max_detected_fraction"
   ]
  },
  {
   "cell_type": "code",
   "execution_count": 279,
   "metadata": {},
   "outputs": [
    {
     "data": {
      "image/png": "[encoded data removed]",
      "text/plain": [
       "<Figure size 216x144 with 1 Axes>"
      ]
     },
     "metadata": {},
     "output_type": "display_data"
    }
   ],
   "source": [
    "N = int(n_searched_kepler)# * more_max_detected_fraction)\n",
    "# N = n_searched_kepler\n",
    "\n",
    "n = n_detected_kepler\n",
    "\n",
    "#eps = np.logspace(-5, -1.9, 1000)\n",
    "eps = np.logspace(-5, 0, 1000)\n",
    "\n",
    "B = np.math.factorial(N) / (np.math.factorial(n) * np.math.factorial(N - n)) * eps**n * (1 - eps)**(N-n)\n",
    "integral = np.trapz(B, eps)\n",
    "\n",
    "Bprime = B/integral\n",
    "\n",
    "lower = 0.16\n",
    "upper = 0.84\n",
    "\n",
    "total_lower = 0\n",
    "total_upper = 0\n",
    "\n",
    "for i in range(1, len(eps)): \n",
    "    total_lower = np.trapz(Bprime[:i], eps[:i])\n",
    "    if total_lower > lower:\n",
    "        lower_bound = eps[i-1]\n",
    "        break\n",
    "        \n",
    "for i in range(1, len(eps)): \n",
    "    total_upper = np.trapz(Bprime[:i], eps[:i])\n",
    "    if total_upper > upper: \n",
    "        upper_bound = eps[i-1]\n",
    "        break\n",
    "    \n",
    "plt.figure(figsize=(3, 2))\n",
    "plt.plot(eps, Bprime)\n",
    "\n",
    "c = eps[Bprime.argmax()]\n",
    "plt.axvline(c, color='k', alpha=0.5)\n",
    "for i in [lower_bound, upper_bound]: \n",
    "    plt.axvline(i, ls='--', color='k', alpha=0.5)\n",
    "\n",
    "# print(c, \"+\", upper_bound, \"-\", lower_bound)\n",
    "plt.title('Large Spots')\n",
    "plt.text(0.06, 20, '$f = {0:.2f}^{{+{1:.2f}}}_{{-{2:.2f}}}$'.format(c, upper_bound, lower_bound))\n",
    "plt.xlabel('Fraction of stars with large spot occultations')\n",
    "plt.ylabel('Probability density')\n",
    "plt.ylim([0, 35])\n",
    "plt.xlim([0, 0.1]) #eps.max()])\n",
    "ax = plt.gca()\n",
    "\n",
    "for s in ['right', 'top']:\n",
    "    ax.spines[s].set_visible(False)\n",
    "\n",
    "plt.savefig('plots/fraction_spotted.pdf', bbox_inches='tight')"
   ]
  },
  {
   "cell_type": "code",
   "execution_count": null,
   "metadata": {},
   "outputs": [],
   "source": []
  }
 ],
 "metadata": {
  "kernelspec": {
   "display_name": "Python 3",
   "language": "python",
   "name": "python3"
  },
  "language_info": {
   "codemirror_mode": {
    "name": "ipython",
    "version": 3
   },
   "file_extension": ".py",
   "mimetype": "text/x-python",
   "name": "python",
   "nbconvert_exporter": "python",
   "pygments_lexer": "ipython3",
   "version": "3.5.4"
  }
 },
 "nbformat": 4,
 "nbformat_minor": 2
}
