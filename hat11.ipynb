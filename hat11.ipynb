{
 "cells": [
  {
   "cell_type": "code",
   "execution_count": 3,
   "metadata": {},
   "outputs": [],
   "source": [
    "%matplotlib inline\n",
    "\n",
    "import numpy as np\n",
    "import matplotlib.pyplot as plt\n",
    "from batman import TransitParams, TransitModel\n",
    "import astropy.units as u\n",
    "from astropy.io import fits\n",
    "from glob import glob"
   ]
  },
  {
   "cell_type": "code",
   "execution_count": 27,
   "metadata": {},
   "outputs": [],
   "source": [
    "paths = glob('/Users/bmmorris/data/hat11/*slc.fits')\n",
    "\n",
    "times = []\n",
    "fluxes = []\n",
    "\n",
    "for path in paths: \n",
    "    f = fits.getdata(path)\n",
    "    times.append(f['TIME'])\n",
    "    fluxes.append(f['PDCSAP_FLUX'] / np.nanmedian(f['PDCSAP_FLUX']))\n",
    "    \n",
    "times = np.concatenate(times)\n",
    "fluxes = np.concatenate(fluxes)"
   ]
  },
  {
   "cell_type": "code",
   "execution_count": 28,
   "metadata": {},
   "outputs": [],
   "source": [
    "fluxes = fluxes[~np.isnan(times)]\n",
    "times = times[~np.isnan(times)] + 2454833"
   ]
  },
  {
   "cell_type": "code",
   "execution_count": 29,
   "metadata": {},
   "outputs": [],
   "source": [
    "import sys\n",
    "sys.path.insert(0, '/Users/bmmorris/git/TESSellate/')\n",
    "from toolkit import LightCurve\n",
    "from astropy.time import Time"
   ]
  },
  {
   "cell_type": "code",
   "execution_count": 41,
   "metadata": {},
   "outputs": [],
   "source": [
    "params = TransitParams()\n",
    "params.per = 4.8878025843894006\n",
    "params.t0 = 2454605.8914623754\n",
    "params.duration = 0.097973065981468405\n",
    "params.a = 14.770858177139598\n",
    "params.b = 0.143443142704645\n",
    "params.ecc = 0.274492258542932\n",
    "params.inc_stellar = 80\n",
    "params.rho_star = 1.8082748494218275\n",
    "params.limb_dark = \"quadratic\"\n",
    "params.per = 4.8878025843894006\n",
    "params.per_rot = 29.192083459347486 \n",
    "params.lam = 106.0\n",
    "params.w = 18.03890135536712\n",
    "params.rp = 0.058330305324663184\n",
    "params.u = [\n",
    "        0.6407001070602456, \n",
    "        0.047761746059854178\n",
    "    ]\n",
    "params.inc = 89.34708509841991\n",
    "        \n",
    "lc = LightCurve(Time(times, format='jd'), fluxes)"
   ]
  },
  {
   "cell_type": "code",
   "execution_count": 56,
   "metadata": {},
   "outputs": [],
   "source": []
  },
  {
   "cell_type": "code",
   "execution_count": 58,
   "metadata": {},
   "outputs": [],
   "source": [
    "residual = []\n",
    "\n",
    "transits = LightCurve(**lc.mask_out_of_transit(params, oot_duration_fraction=2)).get_transit_light_curves(params)\n",
    "\n",
    "for transit in transits: \n",
    "    transit.remove_polynomial_baseline(params, order=1)\n",
    "    \n",
    "    transit.fluxes /= TransitModel(params, transit.times.jd).light_curve(params)\n",
    "    residual.append(transit.fluxes.max() - 1)\n",
    "#     transit.plot()"
   ]
  },
  {
   "cell_type": "code",
   "execution_count": 59,
   "metadata": {},
   "outputs": [
    {
     "data": {
      "image/png": "[encoded data removed]",
      "text/plain": [
       "<Figure size 432x288 with 1 Axes>"
      ]
     },
     "metadata": {},
     "output_type": "display_data"
    }
   ],
   "source": [
    "plt.hist(np.array(residual) * 1e6, 25);"
   ]
  },
  {
   "cell_type": "code",
   "execution_count": null,
   "metadata": {},
   "outputs": [],
   "source": []
  }
 ],
 "metadata": {
  "kernelspec": {
   "display_name": "Python 3",
   "language": "python",
   "name": "python3"
  },
  "language_info": {
   "codemirror_mode": {
    "name": "ipython",
    "version": 3
   },
   "file_extension": ".py",
   "mimetype": "text/x-python",
   "name": "python",
   "nbconvert_exporter": "python",
   "pygments_lexer": "ipython3",
   "version": "3.5.4"
  }
 },
 "nbformat": 4,
 "nbformat_minor": 2
}
